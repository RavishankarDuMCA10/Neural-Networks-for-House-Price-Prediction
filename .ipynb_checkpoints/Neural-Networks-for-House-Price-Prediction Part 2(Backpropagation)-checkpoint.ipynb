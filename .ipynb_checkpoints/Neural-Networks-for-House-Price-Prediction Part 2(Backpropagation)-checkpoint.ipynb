{
 "cells": [
  {
   "cell_type": "markdown",
   "id": "55a21362",
   "metadata": {},
   "source": [
    "# Agenda (Backpropagation)\n",
    "\n",
    "* Read house pricing dataset and do feature transformation\n",
    "* Autogradients: Finding derivatives using tensorflow\n",
    "* Gradient Descent using tensorflow\n",
    "* Backpropagation for a neural network using tensorflow\n",
    "* Writing training loop"
   ]
  },
  {
   "cell_type": "code",
   "execution_count": 1,
   "id": "53fabc6e",
   "metadata": {},
   "outputs": [],
   "source": [
    "import tensorflow as tf\n",
    "import pandas as pd\n",
    "import numpy as np\n",
    "from sklearn.preprocessing import StandardScaler"
   ]
  },
  {
   "cell_type": "markdown",
   "id": "1bb3a9f4",
   "metadata": {},
   "source": [
    "### Part 1: Import the Housing data and do feature transformations"
   ]
  },
  {
   "cell_type": "code",
   "execution_count": 2,
   "id": "a0932f2e",
   "metadata": {},
   "outputs": [
    {
     "data": {
      "text/html": [
       "<div>\n",
       "<style scoped>\n",
       "    .dataframe tbody tr th:only-of-type {\n",
       "        vertical-align: middle;\n",
       "    }\n",
       "\n",
       "    .dataframe tbody tr th {\n",
       "        vertical-align: top;\n",
       "    }\n",
       "\n",
       "    .dataframe thead th {\n",
       "        text-align: right;\n",
       "    }\n",
       "</style>\n",
       "<table border=\"1\" class=\"dataframe\">\n",
       "  <thead>\n",
       "    <tr style=\"text-align: right;\">\n",
       "      <th></th>\n",
       "      <th>bedrooms</th>\n",
       "      <th>sqft_living</th>\n",
       "      <th>price</th>\n",
       "    </tr>\n",
       "  </thead>\n",
       "  <tbody>\n",
       "    <tr>\n",
       "      <th>0</th>\n",
       "      <td>3</td>\n",
       "      <td>1340</td>\n",
       "      <td>313000</td>\n",
       "    </tr>\n",
       "    <tr>\n",
       "      <th>1</th>\n",
       "      <td>5</td>\n",
       "      <td>3650</td>\n",
       "      <td>2384000</td>\n",
       "    </tr>\n",
       "    <tr>\n",
       "      <th>2</th>\n",
       "      <td>3</td>\n",
       "      <td>1930</td>\n",
       "      <td>342000</td>\n",
       "    </tr>\n",
       "    <tr>\n",
       "      <th>3</th>\n",
       "      <td>3</td>\n",
       "      <td>2000</td>\n",
       "      <td>420000</td>\n",
       "    </tr>\n",
       "    <tr>\n",
       "      <th>4</th>\n",
       "      <td>4</td>\n",
       "      <td>1940</td>\n",
       "      <td>550000</td>\n",
       "    </tr>\n",
       "  </tbody>\n",
       "</table>\n",
       "</div>"
      ],
      "text/plain": [
       "   bedrooms  sqft_living    price\n",
       "0         3         1340   313000\n",
       "1         5         3650  2384000\n",
       "2         3         1930   342000\n",
       "3         3         2000   420000\n",
       "4         4         1940   550000"
      ]
     },
     "execution_count": 2,
     "metadata": {},
     "output_type": "execute_result"
    }
   ],
   "source": [
    "df = pd.read_csv('house_price_full.csv')\n",
    "df.head()"
   ]
  },
  {
   "cell_type": "code",
   "execution_count": 3,
   "id": "b19c3cbe",
   "metadata": {},
   "outputs": [
    {
     "data": {
      "text/plain": [
       "(499, 3)"
      ]
     },
     "execution_count": 3,
     "metadata": {},
     "output_type": "execute_result"
    }
   ],
   "source": [
    "df.shape"
   ]
  },
  {
   "cell_type": "code",
   "execution_count": 4,
   "id": "0ec35f73",
   "metadata": {},
   "outputs": [],
   "source": [
    "x = df.copy()\n",
    "# Remove target\n",
    "Y = x.pop('price')"
   ]
  },
  {
   "cell_type": "code",
   "execution_count": 5,
   "id": "c0bafd04",
   "metadata": {},
   "outputs": [
    {
     "data": {
      "text/html": [
       "<div>\n",
       "<style scoped>\n",
       "    .dataframe tbody tr th:only-of-type {\n",
       "        vertical-align: middle;\n",
       "    }\n",
       "\n",
       "    .dataframe tbody tr th {\n",
       "        vertical-align: top;\n",
       "    }\n",
       "\n",
       "    .dataframe thead th {\n",
       "        text-align: right;\n",
       "    }\n",
       "</style>\n",
       "<table border=\"1\" class=\"dataframe\">\n",
       "  <thead>\n",
       "    <tr style=\"text-align: right;\">\n",
       "      <th></th>\n",
       "      <th>bedrooms</th>\n",
       "      <th>sqft_living</th>\n",
       "    </tr>\n",
       "  </thead>\n",
       "  <tbody>\n",
       "    <tr>\n",
       "      <th>0</th>\n",
       "      <td>3</td>\n",
       "      <td>1340</td>\n",
       "    </tr>\n",
       "    <tr>\n",
       "      <th>1</th>\n",
       "      <td>5</td>\n",
       "      <td>3650</td>\n",
       "    </tr>\n",
       "  </tbody>\n",
       "</table>\n",
       "</div>"
      ],
      "text/plain": [
       "   bedrooms  sqft_living\n",
       "0         3         1340\n",
       "1         5         3650"
      ]
     },
     "execution_count": 5,
     "metadata": {},
     "output_type": "execute_result"
    }
   ],
   "source": [
    "x.head(2)"
   ]
  },
  {
   "cell_type": "code",
   "execution_count": 6,
   "id": "c69e4770",
   "metadata": {},
   "outputs": [
    {
     "data": {
      "text/plain": [
       "0     313000\n",
       "1    2384000\n",
       "Name: price, dtype: int64"
      ]
     },
     "execution_count": 6,
     "metadata": {},
     "output_type": "execute_result"
    }
   ],
   "source": [
    "Y.head(2)"
   ]
  },
  {
   "cell_type": "code",
   "execution_count": 7,
   "id": "70f69fdd",
   "metadata": {},
   "outputs": [],
   "source": [
    "scaler = StandardScaler()\n",
    "x = scaler.fit_transform(x)"
   ]
  },
  {
   "cell_type": "code",
   "execution_count": 8,
   "id": "7db6dc01",
   "metadata": {},
   "outputs": [],
   "source": [
    "# preform log transformation of target variable\n",
    "Y = np.log(Y)"
   ]
  },
  {
   "cell_type": "code",
   "execution_count": 9,
   "id": "7eb680d6",
   "metadata": {},
   "outputs": [
    {
     "data": {
      "text/html": [
       "<div>\n",
       "<style scoped>\n",
       "    .dataframe tbody tr th:only-of-type {\n",
       "        vertical-align: middle;\n",
       "    }\n",
       "\n",
       "    .dataframe tbody tr th {\n",
       "        vertical-align: top;\n",
       "    }\n",
       "\n",
       "    .dataframe thead th {\n",
       "        text-align: right;\n",
       "    }\n",
       "</style>\n",
       "<table border=\"1\" class=\"dataframe\">\n",
       "  <thead>\n",
       "    <tr style=\"text-align: right;\">\n",
       "      <th></th>\n",
       "      <th>0</th>\n",
       "      <th>1</th>\n",
       "    </tr>\n",
       "  </thead>\n",
       "  <tbody>\n",
       "    <tr>\n",
       "      <th>0</th>\n",
       "      <td>-0.433198</td>\n",
       "      <td>-0.753258</td>\n",
       "    </tr>\n",
       "    <tr>\n",
       "      <th>1</th>\n",
       "      <td>1.675735</td>\n",
       "      <td>1.457330</td>\n",
       "    </tr>\n",
       "    <tr>\n",
       "      <th>2</th>\n",
       "      <td>-0.433198</td>\n",
       "      <td>-0.188649</td>\n",
       "    </tr>\n",
       "    <tr>\n",
       "      <th>3</th>\n",
       "      <td>-0.433198</td>\n",
       "      <td>-0.121661</td>\n",
       "    </tr>\n",
       "    <tr>\n",
       "      <th>4</th>\n",
       "      <td>0.621269</td>\n",
       "      <td>-0.179079</td>\n",
       "    </tr>\n",
       "    <tr>\n",
       "      <th>...</th>\n",
       "      <td>...</td>\n",
       "      <td>...</td>\n",
       "    </tr>\n",
       "    <tr>\n",
       "      <th>494</th>\n",
       "      <td>0.621269</td>\n",
       "      <td>0.873582</td>\n",
       "    </tr>\n",
       "    <tr>\n",
       "      <th>495</th>\n",
       "      <td>1.675735</td>\n",
       "      <td>2.299459</td>\n",
       "    </tr>\n",
       "    <tr>\n",
       "      <th>496</th>\n",
       "      <td>-0.433198</td>\n",
       "      <td>-0.724549</td>\n",
       "    </tr>\n",
       "    <tr>\n",
       "      <th>497</th>\n",
       "      <td>-0.433198</td>\n",
       "      <td>-0.179079</td>\n",
       "    </tr>\n",
       "    <tr>\n",
       "      <th>498</th>\n",
       "      <td>-0.433198</td>\n",
       "      <td>-1.040347</td>\n",
       "    </tr>\n",
       "  </tbody>\n",
       "</table>\n",
       "<p>499 rows × 2 columns</p>\n",
       "</div>"
      ],
      "text/plain": [
       "            0         1\n",
       "0   -0.433198 -0.753258\n",
       "1    1.675735  1.457330\n",
       "2   -0.433198 -0.188649\n",
       "3   -0.433198 -0.121661\n",
       "4    0.621269 -0.179079\n",
       "..        ...       ...\n",
       "494  0.621269  0.873582\n",
       "495  1.675735  2.299459\n",
       "496 -0.433198 -0.724549\n",
       "497 -0.433198 -0.179079\n",
       "498 -0.433198 -1.040347\n",
       "\n",
       "[499 rows x 2 columns]"
      ]
     },
     "execution_count": 9,
     "metadata": {},
     "output_type": "execute_result"
    }
   ],
   "source": [
    "df_scaled = pd.DataFrame(x)\n",
    "df_scaled"
   ]
  },
  {
   "cell_type": "code",
   "execution_count": 10,
   "id": "7e5631c5",
   "metadata": {},
   "outputs": [],
   "source": [
    "# Taking 1 sample: x1, x2\n",
    "x1, x2 = df_scaled.iloc[0]"
   ]
  },
  {
   "cell_type": "code",
   "execution_count": 11,
   "id": "577f5549",
   "metadata": {},
   "outputs": [
    {
     "data": {
      "text/plain": [
       "-0.43319764280264655"
      ]
     },
     "execution_count": 11,
     "metadata": {},
     "output_type": "execute_result"
    }
   ],
   "source": [
    "x1"
   ]
  },
  {
   "cell_type": "code",
   "execution_count": 12,
   "id": "bfa38898",
   "metadata": {},
   "outputs": [
    {
     "data": {
      "text/plain": [
       "-0.7532575369937701"
      ]
     },
     "execution_count": 12,
     "metadata": {},
     "output_type": "execute_result"
    }
   ],
   "source": [
    "x2"
   ]
  },
  {
   "cell_type": "markdown",
   "id": "e50c0105",
   "metadata": {},
   "source": [
    "### Backpropagation\n",
    "\n",
    "* Autogradients: Finding derivatives using tensorflow\n",
    "* Gradient Descent using tensorflow\n",
    "* Backpropagation for a neural network using tensorflow\n",
    "* Writing training loop"
   ]
  },
  {
   "attachments": {
    "WhatsApp%20Image%202024-11-02%20at%2011.16.42-2.jpeg": {
     "image/jpeg": "[encoded data removed]"
    }
   },
   "cell_type": "markdown",
   "id": "b2aba369",
   "metadata": {},
   "source": [
    "![WhatsApp%20Image%202024-11-02%20at%2011.16.42-2.jpeg](attachment:WhatsApp%20Image%202024-11-02%20at%2011.16.42-2.jpeg)"
   ]
  },
  {
   "cell_type": "markdown",
   "id": "33bbaf3e",
   "metadata": {},
   "source": [
    "### Part 2: Autogradients\n",
    "\n",
    "Find the value of x that minimises $y = x^2+4x$\n",
    "\n",
    "Gradient descent update equation\n",
    "\n",
    "$x_{new} := x_{old}-\\eta\\frac{dy}{dx}$"
   ]
  },
  {
   "cell_type": "code",
   "execution_count": 13,
   "id": "0d8aed0a",
   "metadata": {},
   "outputs": [],
   "source": [
    "x = tf.Variable(0.0)\n",
    "lr = eta = 0.1"
   ]
  },
  {
   "cell_type": "code",
   "execution_count": 14,
   "id": "eb2321ab",
   "metadata": {},
   "outputs": [],
   "source": [
    "with tf.GradientTape() as tape:\n",
    "    y = x**2+4*x\n",
    "grad = tape.gradient(y,x) ## dy/dx"
   ]
  },
  {
   "cell_type": "code",
   "execution_count": 15,
   "id": "36d56b29",
   "metadata": {},
   "outputs": [
    {
     "data": {
      "text/plain": [
       "4.0"
      ]
     },
     "execution_count": 15,
     "metadata": {},
     "output_type": "execute_result"
    }
   ],
   "source": [
    "grad.numpy() # dy/dx = 2x+4, x=0 => dy/dx = 4"
   ]
  },
  {
   "cell_type": "code",
   "execution_count": 16,
   "id": "0368abf0",
   "metadata": {},
   "outputs": [
    {
     "data": {
      "text/plain": [
       "<tf.Variable 'UnreadVariable' shape=() dtype=float32, numpy=-0.4>"
      ]
     },
     "execution_count": 16,
     "metadata": {},
     "output_type": "execute_result"
    }
   ],
   "source": [
    "x.assign_sub(lr*grad) ## x_new = x_old - lr*dy/dx"
   ]
  },
  {
   "cell_type": "code",
   "execution_count": 17,
   "id": "52ef73ad",
   "metadata": {},
   "outputs": [
    {
     "data": {
      "text/plain": [
       "-0.4"
      ]
     },
     "execution_count": 17,
     "metadata": {},
     "output_type": "execute_result"
    }
   ],
   "source": [
    "x.numpy()"
   ]
  },
  {
   "cell_type": "markdown",
   "id": "e7713516",
   "metadata": {},
   "source": [
    "### Part 3: Gradient Descent"
   ]
  },
  {
   "cell_type": "code",
   "execution_count": 18,
   "id": "6c969bd1",
   "metadata": {},
   "outputs": [
    {
     "name": "stdout",
     "output_type": "stream",
     "text": [
      "-0.4\n",
      "-0.72\n",
      "-0.9760001\n",
      "-1.1808001\n",
      "-1.34464\n",
      "-1.4757121\n",
      "-1.5805696\n",
      "-1.6644557\n",
      "-1.7315645\n",
      "-1.7852516\n"
     ]
    }
   ],
   "source": [
    "x = tf.Variable(0.0)\n",
    "lr = 0.1\n",
    "for i in range(10):\n",
    "    with tf.GradientTape() as tape:\n",
    "        y = x**2 + 4*x\n",
    "    grad = tape.gradient(y,x)\n",
    "    x.assign_sub(lr*grad)\n",
    "    print(x.numpy())"
   ]
  },
  {
   "cell_type": "markdown",
   "id": "2f804ce5",
   "metadata": {},
   "source": [
    "### Part 4: Backpropagation for neural networks"
   ]
  },
  {
   "cell_type": "code",
   "execution_count": 25,
   "id": "461e6ec2",
   "metadata": {},
   "outputs": [],
   "source": [
    "x = tf.constant([[x1,x2]], dtype=tf.float32)\n",
    "y = Y[0]"
   ]
  },
  {
   "cell_type": "markdown",
   "id": "10d5165a",
   "metadata": {},
   "source": [
    "#### Random Weight Initialization"
   ]
  },
  {
   "cell_type": "code",
   "execution_count": 26,
   "id": "0f0d4248",
   "metadata": {},
   "outputs": [],
   "source": [
    "def random_init_params():\n",
    "    w1 = tf.Variable(tf.random.uniform((2, 2)))\n",
    "    b1 = tf.Variable(tf.random.uniform((2, 1)))\n",
    "    w2 = tf.Variable(tf.random.uniform((1, 2)))\n",
    "    b2 = tf.Variable(tf.random.uniform((1, 1)))\n",
    "    return w1, b1, w2, b2"
   ]
  },
  {
   "cell_type": "markdown",
   "id": "3058cb95",
   "metadata": {},
   "source": [
    "#### Forward Propagation"
   ]
  },
  {
   "cell_type": "code",
   "execution_count": 30,
   "id": "f8634ac2",
   "metadata": {},
   "outputs": [],
   "source": [
    "def forward_prop(x, w1, b1, w2, b2):\n",
    "    z1 = tf.matmul(w1, tf.transpose(x)) + b1\n",
    "    h1 = tf.math.sigmoid(z1)\n",
    "    z2 = tf.matmul(w2, h1) + b2\n",
    "    h2 = z2\n",
    "    return h2"
   ]
  },
  {
   "cell_type": "code",
   "execution_count": 31,
   "id": "3ebfd2e4",
   "metadata": {},
   "outputs": [
    {
     "name": "stdout",
     "output_type": "stream",
     "text": [
      "<tf.Variable 'Variable:0' shape=(2, 2) dtype=float32, numpy=\n",
      "array([[0.37398827, 0.13191855],\n",
      "       [0.33133006, 0.2887237 ]], dtype=float32)> <tf.Variable 'Variable:0' shape=(2, 1) dtype=float32, numpy=\n",
      "array([[0.43552864],\n",
      "       [0.86466706]], dtype=float32)> <tf.Variable 'Variable:0' shape=(1, 2) dtype=float32, numpy=array([[0.19082546, 0.33180952]], dtype=float32)> <tf.Variable 'Variable:0' shape=(1, 1) dtype=float32, numpy=array([[0.43695092]], dtype=float32)>\n"
     ]
    }
   ],
   "source": [
    "w1, b1, w2, b2 = random_init_params()\n",
    "print(w1, b1, w2, b2)"
   ]
  },
  {
   "cell_type": "code",
   "execution_count": 34,
   "id": "ef02da9c",
   "metadata": {},
   "outputs": [],
   "source": [
    "with tf.GradientTape() as tape:\n",
    "    y_pred = forward_prop(x, w1, b1, w2, b2)\n",
    "    loss = 0.5*(y-y_pred)**2"
   ]
  },
  {
   "cell_type": "code",
   "execution_count": 35,
   "id": "73f2f062",
   "metadata": {},
   "outputs": [],
   "source": [
    "gw1, gb1, gw2, gb2 = tape.gradient(loss, [w1, b1, w2, b2])"
   ]
  },
  {
   "cell_type": "code",
   "execution_count": 36,
   "id": "d7232587",
   "metadata": {},
   "outputs": [
    {
     "name": "stdout",
     "output_type": "stream",
     "text": [
      "<tf.Variable 'Variable:0' shape=(2, 2) dtype=float32, numpy=\n",
      "array([[0.37398827, 0.13191855],\n",
      "       [0.33133006, 0.2887237 ]], dtype=float32)>\n",
      "tf.Tensor(\n",
      "[[0.24420656 0.42463395]\n",
      " [0.40183094 0.6987161 ]], shape=(2, 2), dtype=float32)\n"
     ]
    }
   ],
   "source": [
    "print(w1)\n",
    "print(gw1)"
   ]
  },
  {
   "cell_type": "code",
   "execution_count": 37,
   "id": "693608dd",
   "metadata": {},
   "outputs": [
    {
     "name": "stdout",
     "output_type": "stream",
     "text": [
      "<tf.Variable 'Variable:0' shape=(2, 1) dtype=float32, numpy=\n",
      "array([[0.43552864],\n",
      "       [0.86466706]], dtype=float32)>\n",
      "tf.Tensor(\n",
      "[[-0.5637301 ]\n",
      " [-0.92759264]], shape=(2, 1), dtype=float32)\n"
     ]
    }
   ],
   "source": [
    "print(b1)\n",
    "print(gb1)"
   ]
  },
  {
   "cell_type": "code",
   "execution_count": 38,
   "id": "2b34aee0",
   "metadata": {},
   "outputs": [
    {
     "name": "stdout",
     "output_type": "stream",
     "text": [
      "<tf.Variable 'Variable:0' shape=(1, 2) dtype=float32, numpy=array([[0.19082546, 0.33180952]], dtype=float32)>\n",
      "tf.Tensor([[-6.470312  -7.4215174]], shape=(1, 2), dtype=float32)\n"
     ]
    }
   ],
   "source": [
    "print(w2)\n",
    "print(gw2)"
   ]
  },
  {
   "cell_type": "code",
   "execution_count": 39,
   "id": "d718da5a",
   "metadata": {},
   "outputs": [
    {
     "name": "stdout",
     "output_type": "stream",
     "text": [
      "<tf.Variable 'Variable:0' shape=(1, 1) dtype=float32, numpy=array([[0.43695092]], dtype=float32)>\n",
      "tf.Tensor([[-11.906485]], shape=(1, 1), dtype=float32)\n"
     ]
    }
   ],
   "source": [
    "print(b2)\n",
    "print(gb2)"
   ]
  },
  {
   "cell_type": "code",
   "execution_count": 40,
   "id": "c2c663ed",
   "metadata": {},
   "outputs": [
    {
     "data": {
      "text/plain": [
       "<tf.Variable 'UnreadVariable' shape=(2, 2) dtype=float32, numpy=\n",
       "array([[0.3715462 , 0.12767221],\n",
       "       [0.32731175, 0.28173655]], dtype=float32)>"
      ]
     },
     "execution_count": 40,
     "metadata": {},
     "output_type": "execute_result"
    }
   ],
   "source": [
    "lr = 0.01\n",
    "w1.assign_sub(lr*gw1)"
   ]
  },
  {
   "cell_type": "code",
   "execution_count": 41,
   "id": "05636906",
   "metadata": {},
   "outputs": [
    {
     "data": {
      "text/plain": [
       "<tf.Variable 'UnreadVariable' shape=(2, 1) dtype=float32, numpy=\n",
       "array([[0.44116592],\n",
       "       [0.873943  ]], dtype=float32)>"
      ]
     },
     "execution_count": 41,
     "metadata": {},
     "output_type": "execute_result"
    }
   ],
   "source": [
    "b1.assign_sub(lr*gb1)"
   ]
  },
  {
   "cell_type": "code",
   "execution_count": 42,
   "id": "d8e1e126",
   "metadata": {},
   "outputs": [
    {
     "data": {
      "text/plain": [
       "<tf.Variable 'UnreadVariable' shape=(1, 2) dtype=float32, numpy=array([[0.25552857, 0.4060247 ]], dtype=float32)>"
      ]
     },
     "execution_count": 42,
     "metadata": {},
     "output_type": "execute_result"
    }
   ],
   "source": [
    "w2.assign_sub(lr*gw2)"
   ]
  },
  {
   "cell_type": "code",
   "execution_count": 43,
   "id": "6ab9a391",
   "metadata": {},
   "outputs": [
    {
     "data": {
      "text/plain": [
       "<tf.Variable 'UnreadVariable' shape=(1, 1) dtype=float32, numpy=array([[0.5560158]], dtype=float32)>"
      ]
     },
     "execution_count": 43,
     "metadata": {},
     "output_type": "execute_result"
    }
   ],
   "source": [
    "b2.assign_sub(lr*gb2)"
   ]
  },
  {
   "cell_type": "markdown",
   "id": "2720baf9",
   "metadata": {},
   "source": [
    "#### Part 5: Training Loop"
   ]
  },
  {
   "cell_type": "code",
   "execution_count": 45,
   "id": "68b119e6",
   "metadata": {},
   "outputs": [],
   "source": [
    "def train_one_step(x, y, w1, b1, w2, b2):\n",
    "    y_true = y\n",
    "    with tf.GradientTape() as g:\n",
    "        y_pred = forward_prop(x, w1, b1, w2, b2)\n",
    "        \n",
    "        # loss\n",
    "        loss = 0.5*(y_true - y_pred)**2\n",
    "        \n",
    "    # Gradient calculation\n",
    "    print(\"*******************************************************\")\n",
    "    print(\"GRADIENTS\")\n",
    "    print(\"*******************************************************\")\n",
    "    \n",
    "    gw1, gb1, gw2, gb2 = g.gradient(loss, [w1, b1, w2, b2])\n",
    "    \n",
    "    print(\" the gradient for 1st layer weights are:\\n\", gw1.numpy())\n",
    "    print(\"-------------------------------------------------------\")\n",
    "    print(\" the gradient for 2nd layer weights are:\\n\", gw2.numpy())\n",
    "    print(\"-------------------------------------------------------\")\n",
    "    print(\" the gradient for 1st layer bias are:\\n\", gb1.numpy())\n",
    "    print(\"-------------------------------------------------------\")\n",
    "    print(\" the gradient for 2nd layer bias are:\\n\", gb2.numpy())\n",
    "    print(\"-------------------------------------------------------\")\n",
    "    \n",
    "    # Gradient descent\n",
    "    lr = 0.2\n",
    "    w1.assign_sub(lr*gw1)\n",
    "    b1.assign_sub(lr*gb1)\n",
    "    w2.assign_sub(lr*gw2)\n",
    "    b2.assign_sub(lr*gb2)\n",
    "    print(\"*******************************************************\")\n",
    "    print(\"NEW UPDATES\")\n",
    "    print(\"*******************************************************\")\n",
    "    \n",
    "    print(\" the updated gradient for 1st layer weights are:\\n\", w1.numpy())\n",
    "    print(\"-------------------------------------------------------\")\n",
    "    print(\" the updated gradient for 2nd layer weights are:\\n\", w2.numpy())\n",
    "    print(\"-------------------------------------------------------\")\n",
    "    print(\" the updated gradient for 1st layer bias are:\\n\", b1.numpy())\n",
    "    print(\"-------------------------------------------------------\")\n",
    "    print(\" the updated gradient for 2nd layer bias are:\\n\", b2.numpy())\n",
    "    print(\"-------------------------------------------------------\")\n",
    "    \n",
    "    return w1, b1, w2, b2, loss"
   ]
  },
  {
   "cell_type": "code",
   "execution_count": 46,
   "id": "a57ef0ea",
   "metadata": {},
   "outputs": [
    {
     "name": "stdout",
     "output_type": "stream",
     "text": [
      "*******************************************************\n",
      "GRADIENTS\n",
      "*******************************************************\n",
      " the gradient for 1st layer weights are:\n",
      " [[0.56727874 0.9864019 ]\n",
      " [0.4155407  0.72255504]]\n",
      "-------------------------------------------------------\n",
      " the gradient for 2nd layer weights are:\n",
      " [[-4.3317885 -3.5980651]]\n",
      "-------------------------------------------------------\n",
      " the gradient for 1st layer bias are:\n",
      " [[-1.3095149 ]\n",
      " [-0.95924044]]\n",
      "-------------------------------------------------------\n",
      " the gradient for 2nd layer bias are:\n",
      " [[-11.530118]]\n",
      "-------------------------------------------------------\n",
      "*******************************************************\n",
      "NEW UPDATES\n",
      "*******************************************************\n",
      " the updated gradient for 1st layer weights are:\n",
      " [[0.8458204  0.79297566]\n",
      " [0.8942612  0.54005694]]\n",
      "-------------------------------------------------------\n",
      " the updated gradient for 2nd layer weights are:\n",
      " [[1.3505805 1.1071441]]\n",
      "-------------------------------------------------------\n",
      " the updated gradient for 1st layer bias are:\n",
      " [[0.9155087 ]\n",
      " [0.34038252]]\n",
      "-------------------------------------------------------\n",
      " the updated gradient for 2nd layer bias are:\n",
      " [[3.1270127]]\n",
      "-------------------------------------------------------\n"
     ]
    }
   ],
   "source": [
    "w1, b1, w2, b2 = random_init_params()\n",
    "w1, b1, w2, b2, loss = train_one_step(x, y, w1, b1, w2, b2)"
   ]
  },
  {
   "cell_type": "code",
   "execution_count": null,
   "id": "a3837ee3",
   "metadata": {},
   "outputs": [],
   "source": []
  }
 ],
 "metadata": {
  "kernelspec": {
   "display_name": "Python 3 (ipykernel)",
   "language": "python",
   "name": "python3"
  },
  "language_info": {
   "codemirror_mode": {
    "name": "ipython",
    "version": 3
   },
   "file_extension": ".py",
   "mimetype": "text/x-python",
   "name": "python",
   "nbconvert_exporter": "python",
   "pygments_lexer": "ipython3",
   "version": "3.11.4"
  }
 },
 "nbformat": 4,
 "nbformat_minor": 5
}
