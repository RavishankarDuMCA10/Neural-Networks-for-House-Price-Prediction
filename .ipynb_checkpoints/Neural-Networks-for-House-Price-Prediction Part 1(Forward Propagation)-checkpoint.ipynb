{
 "cells": [
  {
   "cell_type": "markdown",
   "id": "d0508511",
   "metadata": {},
   "source": [
    "# Agenda\n",
    "\n",
    "* Read house pricing dataset and do feature transformation\n",
    "* Forward Propagation through single neuron\n",
    "* Forward Propagation through multiple neurons\n",
    "* Forward Propagation matrix form"
   ]
  },
  {
   "cell_type": "code",
   "execution_count": 3,
   "id": "de3ea875",
   "metadata": {},
   "outputs": [],
   "source": [
    "import tensorflow as tf\n",
    "import pandas as pd\n",
    "import numpy as np\n",
    "from sklearn.preprocessing import StandardScaler"
   ]
  },
  {
   "cell_type": "markdown",
   "id": "45af4dce",
   "metadata": {},
   "source": [
    "### Part 1: Import the Housing data and do feature transformations"
   ]
  },
  {
   "cell_type": "code",
   "execution_count": 5,
   "id": "8c6ae684",
   "metadata": {},
   "outputs": [
    {
     "data": {
      "text/html": [
       "<div>\n",
       "<style scoped>\n",
       "    .dataframe tbody tr th:only-of-type {\n",
       "        vertical-align: middle;\n",
       "    }\n",
       "\n",
       "    .dataframe tbody tr th {\n",
       "        vertical-align: top;\n",
       "    }\n",
       "\n",
       "    .dataframe thead th {\n",
       "        text-align: right;\n",
       "    }\n",
       "</style>\n",
       "<table border=\"1\" class=\"dataframe\">\n",
       "  <thead>\n",
       "    <tr style=\"text-align: right;\">\n",
       "      <th></th>\n",
       "      <th>bedrooms</th>\n",
       "      <th>sqft_living</th>\n",
       "      <th>price</th>\n",
       "    </tr>\n",
       "  </thead>\n",
       "  <tbody>\n",
       "    <tr>\n",
       "      <th>0</th>\n",
       "      <td>3</td>\n",
       "      <td>1340</td>\n",
       "      <td>313000</td>\n",
       "    </tr>\n",
       "    <tr>\n",
       "      <th>1</th>\n",
       "      <td>5</td>\n",
       "      <td>3650</td>\n",
       "      <td>2384000</td>\n",
       "    </tr>\n",
       "    <tr>\n",
       "      <th>2</th>\n",
       "      <td>3</td>\n",
       "      <td>1930</td>\n",
       "      <td>342000</td>\n",
       "    </tr>\n",
       "    <tr>\n",
       "      <th>3</th>\n",
       "      <td>3</td>\n",
       "      <td>2000</td>\n",
       "      <td>420000</td>\n",
       "    </tr>\n",
       "    <tr>\n",
       "      <th>4</th>\n",
       "      <td>4</td>\n",
       "      <td>1940</td>\n",
       "      <td>550000</td>\n",
       "    </tr>\n",
       "  </tbody>\n",
       "</table>\n",
       "</div>"
      ],
      "text/plain": [
       "   bedrooms  sqft_living    price\n",
       "0         3         1340   313000\n",
       "1         5         3650  2384000\n",
       "2         3         1930   342000\n",
       "3         3         2000   420000\n",
       "4         4         1940   550000"
      ]
     },
     "execution_count": 5,
     "metadata": {},
     "output_type": "execute_result"
    }
   ],
   "source": [
    "df = pd.read_csv('house_price_full.csv')\n",
    "df.head()"
   ]
  },
  {
   "cell_type": "code",
   "execution_count": 7,
   "id": "f6ee9e2d",
   "metadata": {},
   "outputs": [
    {
     "data": {
      "text/plain": [
       "(499, 3)"
      ]
     },
     "execution_count": 7,
     "metadata": {},
     "output_type": "execute_result"
    }
   ],
   "source": [
    "df.shape"
   ]
  },
  {
   "cell_type": "code",
   "execution_count": 8,
   "id": "3ed08cc5",
   "metadata": {},
   "outputs": [],
   "source": [
    "x = df.copy()\n",
    "# Remove target\n",
    "Y = x.pop('price')"
   ]
  },
  {
   "cell_type": "code",
   "execution_count": 9,
   "id": "a1beb53a",
   "metadata": {},
   "outputs": [
    {
     "data": {
      "text/html": [
       "<div>\n",
       "<style scoped>\n",
       "    .dataframe tbody tr th:only-of-type {\n",
       "        vertical-align: middle;\n",
       "    }\n",
       "\n",
       "    .dataframe tbody tr th {\n",
       "        vertical-align: top;\n",
       "    }\n",
       "\n",
       "    .dataframe thead th {\n",
       "        text-align: right;\n",
       "    }\n",
       "</style>\n",
       "<table border=\"1\" class=\"dataframe\">\n",
       "  <thead>\n",
       "    <tr style=\"text-align: right;\">\n",
       "      <th></th>\n",
       "      <th>bedrooms</th>\n",
       "      <th>sqft_living</th>\n",
       "    </tr>\n",
       "  </thead>\n",
       "  <tbody>\n",
       "    <tr>\n",
       "      <th>0</th>\n",
       "      <td>3</td>\n",
       "      <td>1340</td>\n",
       "    </tr>\n",
       "    <tr>\n",
       "      <th>1</th>\n",
       "      <td>5</td>\n",
       "      <td>3650</td>\n",
       "    </tr>\n",
       "  </tbody>\n",
       "</table>\n",
       "</div>"
      ],
      "text/plain": [
       "   bedrooms  sqft_living\n",
       "0         3         1340\n",
       "1         5         3650"
      ]
     },
     "execution_count": 9,
     "metadata": {},
     "output_type": "execute_result"
    }
   ],
   "source": [
    "x.head(2)"
   ]
  },
  {
   "cell_type": "code",
   "execution_count": 10,
   "id": "545c5e6b",
   "metadata": {},
   "outputs": [
    {
     "data": {
      "text/plain": [
       "0     313000\n",
       "1    2384000\n",
       "Name: price, dtype: int64"
      ]
     },
     "execution_count": 10,
     "metadata": {},
     "output_type": "execute_result"
    }
   ],
   "source": [
    "Y.head(2)"
   ]
  },
  {
   "cell_type": "code",
   "execution_count": 11,
   "id": "e7d5eeec",
   "metadata": {},
   "outputs": [],
   "source": [
    "scaler = StandardScaler()\n",
    "x = scaler.fit_transform(x)"
   ]
  },
  {
   "cell_type": "code",
   "execution_count": 12,
   "id": "f8b1a42a",
   "metadata": {},
   "outputs": [],
   "source": [
    "# preform log transformation of target variable\n",
    "Y = np.log(Y)"
   ]
  },
  {
   "cell_type": "code",
   "execution_count": 14,
   "id": "0f3aca45",
   "metadata": {},
   "outputs": [
    {
     "data": {
      "text/html": [
       "<div>\n",
       "<style scoped>\n",
       "    .dataframe tbody tr th:only-of-type {\n",
       "        vertical-align: middle;\n",
       "    }\n",
       "\n",
       "    .dataframe tbody tr th {\n",
       "        vertical-align: top;\n",
       "    }\n",
       "\n",
       "    .dataframe thead th {\n",
       "        text-align: right;\n",
       "    }\n",
       "</style>\n",
       "<table border=\"1\" class=\"dataframe\">\n",
       "  <thead>\n",
       "    <tr style=\"text-align: right;\">\n",
       "      <th></th>\n",
       "      <th>0</th>\n",
       "      <th>1</th>\n",
       "    </tr>\n",
       "  </thead>\n",
       "  <tbody>\n",
       "    <tr>\n",
       "      <th>0</th>\n",
       "      <td>-0.433198</td>\n",
       "      <td>-0.753258</td>\n",
       "    </tr>\n",
       "    <tr>\n",
       "      <th>1</th>\n",
       "      <td>1.675735</td>\n",
       "      <td>1.457330</td>\n",
       "    </tr>\n",
       "    <tr>\n",
       "      <th>2</th>\n",
       "      <td>-0.433198</td>\n",
       "      <td>-0.188649</td>\n",
       "    </tr>\n",
       "    <tr>\n",
       "      <th>3</th>\n",
       "      <td>-0.433198</td>\n",
       "      <td>-0.121661</td>\n",
       "    </tr>\n",
       "    <tr>\n",
       "      <th>4</th>\n",
       "      <td>0.621269</td>\n",
       "      <td>-0.179079</td>\n",
       "    </tr>\n",
       "    <tr>\n",
       "      <th>...</th>\n",
       "      <td>...</td>\n",
       "      <td>...</td>\n",
       "    </tr>\n",
       "    <tr>\n",
       "      <th>494</th>\n",
       "      <td>0.621269</td>\n",
       "      <td>0.873582</td>\n",
       "    </tr>\n",
       "    <tr>\n",
       "      <th>495</th>\n",
       "      <td>1.675735</td>\n",
       "      <td>2.299459</td>\n",
       "    </tr>\n",
       "    <tr>\n",
       "      <th>496</th>\n",
       "      <td>-0.433198</td>\n",
       "      <td>-0.724549</td>\n",
       "    </tr>\n",
       "    <tr>\n",
       "      <th>497</th>\n",
       "      <td>-0.433198</td>\n",
       "      <td>-0.179079</td>\n",
       "    </tr>\n",
       "    <tr>\n",
       "      <th>498</th>\n",
       "      <td>-0.433198</td>\n",
       "      <td>-1.040347</td>\n",
       "    </tr>\n",
       "  </tbody>\n",
       "</table>\n",
       "<p>499 rows × 2 columns</p>\n",
       "</div>"
      ],
      "text/plain": [
       "            0         1\n",
       "0   -0.433198 -0.753258\n",
       "1    1.675735  1.457330\n",
       "2   -0.433198 -0.188649\n",
       "3   -0.433198 -0.121661\n",
       "4    0.621269 -0.179079\n",
       "..        ...       ...\n",
       "494  0.621269  0.873582\n",
       "495  1.675735  2.299459\n",
       "496 -0.433198 -0.724549\n",
       "497 -0.433198 -0.179079\n",
       "498 -0.433198 -1.040347\n",
       "\n",
       "[499 rows x 2 columns]"
      ]
     },
     "execution_count": 14,
     "metadata": {},
     "output_type": "execute_result"
    }
   ],
   "source": [
    "df_scaled = pd.DataFrame(x)\n",
    "df_scaled"
   ]
  },
  {
   "cell_type": "code",
   "execution_count": 15,
   "id": "f50f5672",
   "metadata": {},
   "outputs": [],
   "source": [
    "# Taking 1 sample: x1, x2\n",
    "x1, x2 = df_scaled.iloc[0]"
   ]
  },
  {
   "cell_type": "code",
   "execution_count": 16,
   "id": "d3be2337",
   "metadata": {},
   "outputs": [
    {
     "data": {
      "text/plain": [
       "-0.43319764280264655"
      ]
     },
     "execution_count": 16,
     "metadata": {},
     "output_type": "execute_result"
    }
   ],
   "source": [
    "x1"
   ]
  },
  {
   "cell_type": "code",
   "execution_count": 17,
   "id": "46cbe10a",
   "metadata": {},
   "outputs": [
    {
     "data": {
      "text/plain": [
       "-0.7532575369937701"
      ]
     },
     "execution_count": 17,
     "metadata": {},
     "output_type": "execute_result"
    }
   ],
   "source": [
    "x2"
   ]
  },
  {
   "cell_type": "markdown",
   "id": "c5dbce9a",
   "metadata": {},
   "source": [
    "### Part 2: Forward Propagation with a signle Neuron"
   ]
  },
  {
   "attachments": {
    "WhatsApp%20Image%202024-11-01%20at%2020.19.30-2.jpeg": {
     "image/jpeg": "[encoded data removed]"
    }
   },
   "cell_type": "markdown",
   "id": "afc7d51f",
   "metadata": {},
   "source": [
    "The simplest way to describe a neural network is that we have some inputs , which get combined into an auxilliary variable . The auxilliary variable is passed through the activation function  and the result is the output.\n",
    "\n",
    "Here is another image showing each step.\n",
    "![WhatsApp%20Image%202024-11-01%20at%2020.19.30-2.jpeg](attachment:WhatsApp%20Image%202024-11-01%20at%2020.19.30-2.jpeg)\n",
    "Notice that the inputs are linearly combined according to some weights  and a bias . This transformation is also sometimes called an affine transformation. The perceptron transforms the weighted inputs according to the rule of the activation function. For a single perceptron, the output  is just the output from the perceptron. The linear transformation and activation of the neuron occurs within a single layer of the network (shown in the dotted box).\n",
    "\n",
    "Let's see what the single-layer, single neuron network give us. We have a couple of choices to make:\n",
    "\n",
    "We must choose some weights and some biases\n",
    "We must choose an activation function\n",
    "For now, we will manually specify the weights and biases.\n",
    "\n",
    "We choose a sigmoid activation function\n"
   ]
  },
  {
   "cell_type": "code",
   "execution_count": 19,
   "id": "87e2b766",
   "metadata": {},
   "outputs": [],
   "source": [
    "# bias\n",
    "b = tf.Variable([0.1], dtype=tf.float32)\n",
    "\n",
    "# weights\n",
    "w1 = tf.Variable([0.2], dtype=tf.float32)\n",
    "w2 = tf.Variable([0.15], dtype=tf.float32)"
   ]
  },
  {
   "cell_type": "code",
   "execution_count": 20,
   "id": "fffd60a7",
   "metadata": {},
   "outputs": [
    {
     "name": "stdout",
     "output_type": "stream",
     "text": [
      "The output from the first neuron is tf.Tensor([0.47511354], shape=(1,), dtype=float32)\n"
     ]
    }
   ],
   "source": [
    "# Cumulative input\n",
    "z = b + w1*x1 + w2*x2\n",
    "h = tf.math.sigmoid(z)\n",
    "print(\"The output from the first neuron is\", h)"
   ]
  },
  {
   "attachments": {
    "WhatsApp%20Image%202024-11-01%20at%2020.32.42.jpeg": {
     "image/jpeg": "[encoded data removed]"
    }
   },
   "cell_type": "markdown",
   "id": "069b7309",
   "metadata": {},
   "source": [
    "### Part 3: Forward Propagation with multiple neurons\n",
    "\n",
    "![WhatsApp%20Image%202024-11-01%20at%2020.32.42.jpeg](attachment:WhatsApp%20Image%202024-11-01%20at%2020.32.42.jpeg)"
   ]
  },
  {
   "cell_type": "code",
   "execution_count": 30,
   "id": "fdaf5aac",
   "metadata": {},
   "outputs": [],
   "source": [
    "## layer1 weights\n",
    "# neuron1\n",
    "b1 = tf.Variable([0.1])\n",
    "w11 = tf.Variable([0.2])\n",
    "w12 = tf.Variable([0.15])\n",
    "\n",
    "# neuron2\n",
    "b2 = tf.Variable([0.25])\n",
    "w21 = tf.Variable([0.5])\n",
    "w22 = tf.Variable([0.6])"
   ]
  },
  {
   "cell_type": "code",
   "execution_count": 31,
   "id": "34b8d036",
   "metadata": {},
   "outputs": [
    {
     "name": "stdout",
     "output_type": "stream",
     "text": [
      "The output from the first neuron is tf.Tensor([0.47511354], shape=(1,), dtype=float32)\n"
     ]
    }
   ],
   "source": [
    "## forward pass\n",
    "z1 = b1+w11*x1+w12*x2\n",
    "h1 = tf.math.sigmoid(z1)\n",
    "print(\"The output from the first neuron is\", h1)"
   ]
  },
  {
   "cell_type": "code",
   "execution_count": 32,
   "id": "e18e4d93",
   "metadata": {},
   "outputs": [
    {
     "name": "stdout",
     "output_type": "stream",
     "text": [
      "The output from the second neuron is tf.Tensor([0.39686295], shape=(1,), dtype=float32)\n"
     ]
    }
   ],
   "source": [
    "# forward pass\n",
    "# neuron 2\n",
    "z2 = b2 + w21*x1 + w22*x2\n",
    "h2 = tf.math.sigmoid(z2)\n",
    "print(\"The output from the second neuron is\", h2)"
   ]
  },
  {
   "cell_type": "code",
   "execution_count": 33,
   "id": "63aae8d1",
   "metadata": {},
   "outputs": [],
   "source": [
    "# layer2 weights\n",
    "b1 = tf.Variable([0.4])\n",
    "w11 = tf.Variable([0.3])\n",
    "w12 = tf.Variable([0.2])"
   ]
  },
  {
   "cell_type": "code",
   "execution_count": 34,
   "id": "34df624d",
   "metadata": {},
   "outputs": [
    {
     "name": "stdout",
     "output_type": "stream",
     "text": [
      "The output from the first neuron is tf.Tensor([0.62190664], shape=(1,), dtype=float32)\n"
     ]
    }
   ],
   "source": [
    "## forward pass\n",
    "# second layer\n",
    "z1 = b1 + w11*h1 + w12*h2\n",
    "h1 = z1\n",
    "print(\"The output from the first neuron is\", h1)"
   ]
  },
  {
   "cell_type": "code",
   "execution_count": 35,
   "id": "670c6bd1",
   "metadata": {},
   "outputs": [],
   "source": [
    "y_true = Y[0]\n",
    "y_pred = h1.numpy()"
   ]
  },
  {
   "cell_type": "code",
   "execution_count": 36,
   "id": "8aca5c07",
   "metadata": {},
   "outputs": [
    {
     "name": "stdout",
     "output_type": "stream",
     "text": [
      "The MSE error is [72.38514]\n"
     ]
    }
   ],
   "source": [
    "# loss\n",
    "L = 0.5*(y_true - y_pred)**2\n",
    "print(\"The MSE error is\", L)"
   ]
  },
  {
   "cell_type": "markdown",
   "id": "b6d374e8",
   "metadata": {},
   "source": [
    "### Part 4: Forward pass matrix multiplication\n",
    "\n",
    "This network can be described as follows:\n",
    "\n",
    "- Input vector = $X = (x1,x2)$\n",
    "- Weight Matrix (hidden layer) = $$W^1 = \\begin{bmatrix}\n",
    "w^1_{11}&&w^1_{12}\\\\\n",
    "w^1_{21}&&w^1_{22}\\\\\n",
    "\\end{bmatrix}\n",
    "$$\n",
    "*note the subscripts are being mapped to weights in the figure\n",
    "\n",
    "- Bias/offset Matrix (hidden layer) = $$\n",
    "B^1_0 = \\begin{bmatrix}\n",
    "b^1_{1}\\\\\n",
    "b^1_{2}\\\\\n",
    "\\end{bmatrix}\n",
    "$$\n",
    "\n",
    "Now the forward pass for the hidden layer can be described as \n",
    "\n",
    "$$W^1 \\times X^T + B^1_0= Z^1 = \\begin{bmatrix}\n",
    "z^1_{1}\\\\\n",
    "z^1_{2}\\\\\n",
    "\\end{bmatrix}\n",
    "$$\n",
    "\n",
    "Applying the activation function $f$ over the matrix $Z$ will complete the forward pass.\n",
    "\n",
    "$$f(W^1 \\times X^T + B^1_0)= f(Z^1) = f(\\begin{bmatrix}\n",
    "z^1_{1}\\\\\n",
    "z^1_{2}\\\\\n",
    "\\end{bmatrix}) = \n",
    "\\begin{bmatrix}\n",
    "f(z^1_{1})\\\\\n",
    "f(z^1_{2})\\\\\n",
    "\\end{bmatrix}\n",
    "=\n",
    "\\begin{bmatrix}\n",
    "h^1_1\\\\\n",
    "h^1_2\\\\\n",
    "\\end{bmatrix}\n",
    "= H^1\n",
    "$$\n",
    "\n",
    "For the output layer:\n",
    "\n",
    "- The weight matrix is $$W^2 = \\begin{bmatrix}\n",
    "w^2_{11}&&w^2_{12}\\\\\n",
    "\\end{bmatrix}\n",
    "$$\n",
    "\n",
    "- The bias/offset matrix is $$B^2_0 = \\begin{bmatrix}\n",
    "b^2_{1}\\\\\n",
    "\\end{bmatrix}\n",
    "$$\n",
    "\n",
    "Now the forward pass can be written as:\n",
    "\n",
    "\n",
    "$$ B_0^2+W^2 \\times H^1$$\n"
   ]
  },
  {
   "cell_type": "code",
   "execution_count": 37,
   "id": "6b0c5d2d",
   "metadata": {},
   "outputs": [],
   "source": [
    "## layer 1 weights\n",
    "W1 = tf.Variable([[0.2, 0.15], [0.5, 0.6]], dtype=tf.float32)\n",
    "\n",
    "## layer 1 bias\n",
    "B1 = tf.Variable([[0.1], [0.25]], dtype=tf.float32)"
   ]
  },
  {
   "cell_type": "code",
   "execution_count": 38,
   "id": "1e350fba",
   "metadata": {},
   "outputs": [],
   "source": [
    "# layer 2 weights\n",
    "W2 = tf.Variable([[0.3, 0.2]], dtype=tf.float32)\n",
    "\n",
    "## layer 2 bias\n",
    "B2 = tf.Variable([0.4], dtype=tf.float32)"
   ]
  },
  {
   "cell_type": "code",
   "execution_count": 39,
   "id": "5ac0a3f2",
   "metadata": {},
   "outputs": [],
   "source": [
    "## data\n",
    "x = tf.constant([[x1, x2]], dtype=tf.float32)"
   ]
  },
  {
   "cell_type": "code",
   "execution_count": 41,
   "id": "a9ecc3bf",
   "metadata": {},
   "outputs": [
    {
     "name": "stdout",
     "output_type": "stream",
     "text": [
      "tf.Tensor(\n",
      "[[0.47511354]\n",
      " [0.39686295]], shape=(2, 1), dtype=float32)\n"
     ]
    }
   ],
   "source": [
    "## forward pass layer 1\n",
    "Z1  = tf.matmul(W1, tf.transpose(x)) + B1\n",
    "H1 = tf.math.sigmoid(Z1)\n",
    "print(H1)"
   ]
  },
  {
   "cell_type": "code",
   "execution_count": 42,
   "id": "cf23ec75",
   "metadata": {},
   "outputs": [],
   "source": [
    "## forward pass layer 2\n",
    "Z2 = tf.matmul(W2,H1)+B2"
   ]
  },
  {
   "cell_type": "code",
   "execution_count": 43,
   "id": "572c52c4",
   "metadata": {},
   "outputs": [
    {
     "name": "stdout",
     "output_type": "stream",
     "text": [
      "[[72.38514]]\n"
     ]
    }
   ],
   "source": [
    "y_pred = Z2.numpy()\n",
    "loss = 0.5*(y_true - y_pred)**2\n",
    "print(loss)"
   ]
  },
  {
   "cell_type": "markdown",
   "id": "d7e2bfc7",
   "metadata": {},
   "source": [
    "### Part 5: Random Weight Initialization"
   ]
  },
  {
   "cell_type": "code",
   "execution_count": 46,
   "id": "a2fb8acb",
   "metadata": {},
   "outputs": [],
   "source": [
    "def random_init_params():\n",
    "    w1 =tf.Variable(tf.random.uniform((2, 2)))\n",
    "    b1 =tf.Variable(tf.random.uniform((2, 1)))\n",
    "    w2 =tf.Variable(tf.random.uniform((1, 2)))\n",
    "    v2 =tf.Variable(tf.random.uniform((1, 1)))\n",
    "    return w1, b1, w2, b2"
   ]
  },
  {
   "cell_type": "code",
   "execution_count": 47,
   "id": "119f1a76",
   "metadata": {},
   "outputs": [],
   "source": [
    "w1, b1, w2, b2 = random_init_params()"
   ]
  },
  {
   "cell_type": "code",
   "execution_count": 48,
   "id": "d5790014",
   "metadata": {},
   "outputs": [
    {
     "name": "stdout",
     "output_type": "stream",
     "text": [
      " the initial 1st layer weights are:\n",
      " [[0.76065314 0.28860295]\n",
      " [0.81858516 0.6838262 ]]\n",
      "-------------------------------------------------\n",
      " the initial 2nd layer weights are:\n",
      " [[0.20471168 0.07850122]]\n",
      "-------------------------------------------------\n",
      " the initial 1st layer bias are:\n",
      " [[0.42549884]\n",
      " [0.4247129 ]]\n",
      "-------------------------------------------------\n",
      " the initial 2nd layer bias are:\n",
      " [0.25]\n"
     ]
    }
   ],
   "source": [
    "print(\" the initial 1st layer weights are:\\n\", w1.numpy())\n",
    "print(\"-------------------------------------------------\")\n",
    "print(\" the initial 2nd layer weights are:\\n\", w2.numpy())\n",
    "print(\"-------------------------------------------------\")\n",
    "print(\" the initial 1st layer bias are:\\n\", b1.numpy())\n",
    "print(\"-------------------------------------------------\")\n",
    "print(\" the initial 2nd layer bias are:\\n\", b2.numpy())"
   ]
  },
  {
   "cell_type": "code",
   "execution_count": 49,
   "id": "3b5ddb6f",
   "metadata": {},
   "outputs": [],
   "source": [
    "def forward_prop(x, w1, b1, w2, b2):\n",
    "    z1 = tf.matmul(w1,tf.transpose(x)) + b1\n",
    "    h1 = tf.math.sigmoid(z1)\n",
    "    z2 = tf.matmul(w2,h1) + b2\n",
    "    h2 = z2\n",
    "    return h2"
   ]
  },
  {
   "cell_type": "code",
   "execution_count": 50,
   "id": "734b47fb",
   "metadata": {},
   "outputs": [],
   "source": [
    "x = tf.constant([[x1, x2]], dtype=tf.float32)\n",
    "y = Y[0]"
   ]
  },
  {
   "cell_type": "code",
   "execution_count": 51,
   "id": "1d2b1c16",
   "metadata": {},
   "outputs": [],
   "source": [
    "y_pred = forward_prop(x, w1, b1, w2, b2)"
   ]
  },
  {
   "cell_type": "code",
   "execution_count": 52,
   "id": "2ca58d15",
   "metadata": {},
   "outputs": [
    {
     "name": "stdout",
     "output_type": "stream",
     "text": [
      "The MSE error is tf.Tensor([[75.3642]], shape=(1, 1), dtype=float32)\n"
     ]
    }
   ],
   "source": [
    "# loss\n",
    "L = 0.5*(y - y_pred)**2\n",
    "print(\"The MSE error is\", L)"
   ]
  },
  {
   "cell_type": "code",
   "execution_count": null,
   "id": "13ff10f3",
   "metadata": {},
   "outputs": [],
   "source": []
  }
 ],
 "metadata": {
  "kernelspec": {
   "display_name": "Python 3 (ipykernel)",
   "language": "python",
   "name": "python3"
  },
  "language_info": {
   "codemirror_mode": {
    "name": "ipython",
    "version": 3
   },
   "file_extension": ".py",
   "mimetype": "text/x-python",
   "name": "python",
   "nbconvert_exporter": "python",
   "pygments_lexer": "ipython3",
   "version": "3.11.4"
  }
 },
 "nbformat": 4,
 "nbformat_minor": 5
}
